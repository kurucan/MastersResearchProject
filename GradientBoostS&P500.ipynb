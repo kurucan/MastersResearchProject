{
 "cells": [
  {
   "cell_type": "code",
   "execution_count": 1,
   "metadata": {},
   "outputs": [],
   "source": [
    "import pandas as pd\n",
    "from sklearn.ensemble import GradientBoostingClassifier\n",
    "from sklearn.preprocessing import LabelEncoder\n",
    "from sklearn.tree import DecisionTreeClassifier\n",
    "from sklearn.model_selection import train_test_split\n",
    "from sklearn import metrics"
   ]
  },
  {
   "cell_type": "code",
   "execution_count": 2,
   "metadata": {},
   "outputs": [],
   "source": [
    "dataset= pd.read_csv(\"SP.csv\")"
   ]
  },
  {
   "cell_type": "code",
   "execution_count": 3,
   "metadata": {},
   "outputs": [],
   "source": [
    "df = pd.DataFrame(dataset)"
   ]
  },
  {
   "cell_type": "code",
   "execution_count": 4,
   "metadata": {},
   "outputs": [],
   "source": [
    "#Removing unneccessary columns\n",
    "df1=df.drop(['Date','Open','High','Low','Close'], axis=1)"
   ]
  },
  {
   "cell_type": "code",
   "execution_count": 5,
   "metadata": {},
   "outputs": [],
   "source": [
    "#Creating 'Today' column based on Percentage Change\n",
    "df1['Today'] = df1['Adj Close'].pct_change(1)"
   ]
  },
  {
   "cell_type": "code",
   "execution_count": 6,
   "metadata": {},
   "outputs": [],
   "source": [
    "#Creating lag features required for Time Series Analysis\n",
    "df1['lag_1'] = df1['Today'].shift(1)\n",
    "df1['lag_2'] = df1['Today'].shift(2)\n",
    "df1['lag_3'] = df1['Today'].shift(3)\n",
    "df1['lag_4'] = df1['Today'].shift(4)\n",
    "df1['lag_5'] = df1['Today'].shift(5)"
   ]
  },
  {
   "cell_type": "code",
   "execution_count": 7,
   "metadata": {},
   "outputs": [],
   "source": [
    "df1.loc[df1['Today'] > 0 , 'Direction'] = 1\n",
    "df1.loc[df1['Today'] < 0 , 'Direction'] = 0"
   ]
  },
  {
   "cell_type": "code",
   "execution_count": 8,
   "metadata": {},
   "outputs": [],
   "source": [
    "data = df1.drop(['Adj Close'], axis=1)"
   ]
  },
  {
   "cell_type": "code",
   "execution_count": 9,
   "metadata": {},
   "outputs": [
    {
     "data": {
      "text/html": [
       "<style  type=\"text/css\" >\n",
       "    #T_ab938da2_d4ef_11ea_9ef0_80c5f2ad3438row0_col0 {\n",
       "            background-color:  #b40426;\n",
       "            color:  #f1f1f1;\n",
       "        }    #T_ab938da2_d4ef_11ea_9ef0_80c5f2ad3438row0_col1 {\n",
       "            background-color:  #3f53c6;\n",
       "            color:  #f1f1f1;\n",
       "        }    #T_ab938da2_d4ef_11ea_9ef0_80c5f2ad3438row0_col2 {\n",
       "            background-color:  #3c4ec2;\n",
       "            color:  #f1f1f1;\n",
       "        }    #T_ab938da2_d4ef_11ea_9ef0_80c5f2ad3438row0_col3 {\n",
       "            background-color:  #3c4ec2;\n",
       "            color:  #f1f1f1;\n",
       "        }    #T_ab938da2_d4ef_11ea_9ef0_80c5f2ad3438row0_col4 {\n",
       "            background-color:  #3c4ec2;\n",
       "            color:  #f1f1f1;\n",
       "        }    #T_ab938da2_d4ef_11ea_9ef0_80c5f2ad3438row0_col5 {\n",
       "            background-color:  #3c4ec2;\n",
       "            color:  #f1f1f1;\n",
       "        }    #T_ab938da2_d4ef_11ea_9ef0_80c5f2ad3438row0_col6 {\n",
       "            background-color:  #3e51c5;\n",
       "            color:  #f1f1f1;\n",
       "        }    #T_ab938da2_d4ef_11ea_9ef0_80c5f2ad3438row0_col7 {\n",
       "            background-color:  #4055c8;\n",
       "            color:  #f1f1f1;\n",
       "        }    #T_ab938da2_d4ef_11ea_9ef0_80c5f2ad3438row1_col0 {\n",
       "            background-color:  #3d50c3;\n",
       "            color:  #f1f1f1;\n",
       "        }    #T_ab938da2_d4ef_11ea_9ef0_80c5f2ad3438row1_col1 {\n",
       "            background-color:  #b40426;\n",
       "            color:  #f1f1f1;\n",
       "        }    #T_ab938da2_d4ef_11ea_9ef0_80c5f2ad3438row1_col2 {\n",
       "            background-color:  #3c4ec2;\n",
       "            color:  #f1f1f1;\n",
       "        }    #T_ab938da2_d4ef_11ea_9ef0_80c5f2ad3438row1_col3 {\n",
       "            background-color:  #3c4ec2;\n",
       "            color:  #f1f1f1;\n",
       "        }    #T_ab938da2_d4ef_11ea_9ef0_80c5f2ad3438row1_col4 {\n",
       "            background-color:  #3f53c6;\n",
       "            color:  #f1f1f1;\n",
       "        }    #T_ab938da2_d4ef_11ea_9ef0_80c5f2ad3438row1_col5 {\n",
       "            background-color:  #3b4cc0;\n",
       "            color:  #f1f1f1;\n",
       "        }    #T_ab938da2_d4ef_11ea_9ef0_80c5f2ad3438row1_col6 {\n",
       "            background-color:  #4055c8;\n",
       "            color:  #f1f1f1;\n",
       "        }    #T_ab938da2_d4ef_11ea_9ef0_80c5f2ad3438row1_col7 {\n",
       "            background-color:  #f7b599;\n",
       "            color:  #000000;\n",
       "        }    #T_ab938da2_d4ef_11ea_9ef0_80c5f2ad3438row2_col0 {\n",
       "            background-color:  #3b4cc0;\n",
       "            color:  #f1f1f1;\n",
       "        }    #T_ab938da2_d4ef_11ea_9ef0_80c5f2ad3438row2_col1 {\n",
       "            background-color:  #3c4ec2;\n",
       "            color:  #f1f1f1;\n",
       "        }    #T_ab938da2_d4ef_11ea_9ef0_80c5f2ad3438row2_col2 {\n",
       "            background-color:  #b40426;\n",
       "            color:  #f1f1f1;\n",
       "        }    #T_ab938da2_d4ef_11ea_9ef0_80c5f2ad3438row2_col3 {\n",
       "            background-color:  #3b4cc0;\n",
       "            color:  #f1f1f1;\n",
       "        }    #T_ab938da2_d4ef_11ea_9ef0_80c5f2ad3438row2_col4 {\n",
       "            background-color:  #3c4ec2;\n",
       "            color:  #f1f1f1;\n",
       "        }    #T_ab938da2_d4ef_11ea_9ef0_80c5f2ad3438row2_col5 {\n",
       "            background-color:  #4257c9;\n",
       "            color:  #f1f1f1;\n",
       "        }    #T_ab938da2_d4ef_11ea_9ef0_80c5f2ad3438row2_col6 {\n",
       "            background-color:  #3b4cc0;\n",
       "            color:  #f1f1f1;\n",
       "        }    #T_ab938da2_d4ef_11ea_9ef0_80c5f2ad3438row2_col7 {\n",
       "            background-color:  #3d50c3;\n",
       "            color:  #f1f1f1;\n",
       "        }    #T_ab938da2_d4ef_11ea_9ef0_80c5f2ad3438row3_col0 {\n",
       "            background-color:  #3b4cc0;\n",
       "            color:  #f1f1f1;\n",
       "        }    #T_ab938da2_d4ef_11ea_9ef0_80c5f2ad3438row3_col1 {\n",
       "            background-color:  #3e51c5;\n",
       "            color:  #f1f1f1;\n",
       "        }    #T_ab938da2_d4ef_11ea_9ef0_80c5f2ad3438row3_col2 {\n",
       "            background-color:  #3c4ec2;\n",
       "            color:  #f1f1f1;\n",
       "        }    #T_ab938da2_d4ef_11ea_9ef0_80c5f2ad3438row3_col3 {\n",
       "            background-color:  #b40426;\n",
       "            color:  #f1f1f1;\n",
       "        }    #T_ab938da2_d4ef_11ea_9ef0_80c5f2ad3438row3_col4 {\n",
       "            background-color:  #3b4cc0;\n",
       "            color:  #f1f1f1;\n",
       "        }    #T_ab938da2_d4ef_11ea_9ef0_80c5f2ad3438row3_col5 {\n",
       "            background-color:  #3d50c3;\n",
       "            color:  #f1f1f1;\n",
       "        }    #T_ab938da2_d4ef_11ea_9ef0_80c5f2ad3438row3_col6 {\n",
       "            background-color:  #4257c9;\n",
       "            color:  #f1f1f1;\n",
       "        }    #T_ab938da2_d4ef_11ea_9ef0_80c5f2ad3438row3_col7 {\n",
       "            background-color:  #3b4cc0;\n",
       "            color:  #f1f1f1;\n",
       "        }    #T_ab938da2_d4ef_11ea_9ef0_80c5f2ad3438row4_col0 {\n",
       "            background-color:  #3c4ec2;\n",
       "            color:  #f1f1f1;\n",
       "        }    #T_ab938da2_d4ef_11ea_9ef0_80c5f2ad3438row4_col1 {\n",
       "            background-color:  #4257c9;\n",
       "            color:  #f1f1f1;\n",
       "        }    #T_ab938da2_d4ef_11ea_9ef0_80c5f2ad3438row4_col2 {\n",
       "            background-color:  #3d50c3;\n",
       "            color:  #f1f1f1;\n",
       "        }    #T_ab938da2_d4ef_11ea_9ef0_80c5f2ad3438row4_col3 {\n",
       "            background-color:  #3b4cc0;\n",
       "            color:  #f1f1f1;\n",
       "        }    #T_ab938da2_d4ef_11ea_9ef0_80c5f2ad3438row4_col4 {\n",
       "            background-color:  #b40426;\n",
       "            color:  #f1f1f1;\n",
       "        }    #T_ab938da2_d4ef_11ea_9ef0_80c5f2ad3438row4_col5 {\n",
       "            background-color:  #3c4ec2;\n",
       "            color:  #f1f1f1;\n",
       "        }    #T_ab938da2_d4ef_11ea_9ef0_80c5f2ad3438row4_col6 {\n",
       "            background-color:  #3d50c3;\n",
       "            color:  #f1f1f1;\n",
       "        }    #T_ab938da2_d4ef_11ea_9ef0_80c5f2ad3438row4_col7 {\n",
       "            background-color:  #3b4cc0;\n",
       "            color:  #f1f1f1;\n",
       "        }    #T_ab938da2_d4ef_11ea_9ef0_80c5f2ad3438row5_col0 {\n",
       "            background-color:  #3b4cc0;\n",
       "            color:  #f1f1f1;\n",
       "        }    #T_ab938da2_d4ef_11ea_9ef0_80c5f2ad3438row5_col1 {\n",
       "            background-color:  #3b4cc0;\n",
       "            color:  #f1f1f1;\n",
       "        }    #T_ab938da2_d4ef_11ea_9ef0_80c5f2ad3438row5_col2 {\n",
       "            background-color:  #4257c9;\n",
       "            color:  #f1f1f1;\n",
       "        }    #T_ab938da2_d4ef_11ea_9ef0_80c5f2ad3438row5_col3 {\n",
       "            background-color:  #3c4ec2;\n",
       "            color:  #f1f1f1;\n",
       "        }    #T_ab938da2_d4ef_11ea_9ef0_80c5f2ad3438row5_col4 {\n",
       "            background-color:  #3b4cc0;\n",
       "            color:  #f1f1f1;\n",
       "        }    #T_ab938da2_d4ef_11ea_9ef0_80c5f2ad3438row5_col5 {\n",
       "            background-color:  #b40426;\n",
       "            color:  #f1f1f1;\n",
       "        }    #T_ab938da2_d4ef_11ea_9ef0_80c5f2ad3438row5_col6 {\n",
       "            background-color:  #3c4ec2;\n",
       "            color:  #f1f1f1;\n",
       "        }    #T_ab938da2_d4ef_11ea_9ef0_80c5f2ad3438row5_col7 {\n",
       "            background-color:  #3d50c3;\n",
       "            color:  #f1f1f1;\n",
       "        }    #T_ab938da2_d4ef_11ea_9ef0_80c5f2ad3438row6_col0 {\n",
       "            background-color:  #3d50c3;\n",
       "            color:  #f1f1f1;\n",
       "        }    #T_ab938da2_d4ef_11ea_9ef0_80c5f2ad3438row6_col1 {\n",
       "            background-color:  #4055c8;\n",
       "            color:  #f1f1f1;\n",
       "        }    #T_ab938da2_d4ef_11ea_9ef0_80c5f2ad3438row6_col2 {\n",
       "            background-color:  #3b4cc0;\n",
       "            color:  #f1f1f1;\n",
       "        }    #T_ab938da2_d4ef_11ea_9ef0_80c5f2ad3438row6_col3 {\n",
       "            background-color:  #4055c8;\n",
       "            color:  #f1f1f1;\n",
       "        }    #T_ab938da2_d4ef_11ea_9ef0_80c5f2ad3438row6_col4 {\n",
       "            background-color:  #3c4ec2;\n",
       "            color:  #f1f1f1;\n",
       "        }    #T_ab938da2_d4ef_11ea_9ef0_80c5f2ad3438row6_col5 {\n",
       "            background-color:  #3c4ec2;\n",
       "            color:  #f1f1f1;\n",
       "        }    #T_ab938da2_d4ef_11ea_9ef0_80c5f2ad3438row6_col6 {\n",
       "            background-color:  #b40426;\n",
       "            color:  #f1f1f1;\n",
       "        }    #T_ab938da2_d4ef_11ea_9ef0_80c5f2ad3438row6_col7 {\n",
       "            background-color:  #3b4cc0;\n",
       "            color:  #f1f1f1;\n",
       "        }    #T_ab938da2_d4ef_11ea_9ef0_80c5f2ad3438row7_col0 {\n",
       "            background-color:  #445acc;\n",
       "            color:  #f1f1f1;\n",
       "        }    #T_ab938da2_d4ef_11ea_9ef0_80c5f2ad3438row7_col1 {\n",
       "            background-color:  #f7b497;\n",
       "            color:  #000000;\n",
       "        }    #T_ab938da2_d4ef_11ea_9ef0_80c5f2ad3438row7_col2 {\n",
       "            background-color:  #4358cb;\n",
       "            color:  #f1f1f1;\n",
       "        }    #T_ab938da2_d4ef_11ea_9ef0_80c5f2ad3438row7_col3 {\n",
       "            background-color:  #3e51c5;\n",
       "            color:  #f1f1f1;\n",
       "        }    #T_ab938da2_d4ef_11ea_9ef0_80c5f2ad3438row7_col4 {\n",
       "            background-color:  #3e51c5;\n",
       "            color:  #f1f1f1;\n",
       "        }    #T_ab938da2_d4ef_11ea_9ef0_80c5f2ad3438row7_col5 {\n",
       "            background-color:  #4257c9;\n",
       "            color:  #f1f1f1;\n",
       "        }    #T_ab938da2_d4ef_11ea_9ef0_80c5f2ad3438row7_col6 {\n",
       "            background-color:  #4055c8;\n",
       "            color:  #f1f1f1;\n",
       "        }    #T_ab938da2_d4ef_11ea_9ef0_80c5f2ad3438row7_col7 {\n",
       "            background-color:  #b40426;\n",
       "            color:  #f1f1f1;\n",
       "        }</style><table id=\"T_ab938da2_d4ef_11ea_9ef0_80c5f2ad3438\" ><thead>    <tr>        <th class=\"blank level0\" ></th>        <th class=\"col_heading level0 col0\" >Volume</th>        <th class=\"col_heading level0 col1\" >Today</th>        <th class=\"col_heading level0 col2\" >lag_1</th>        <th class=\"col_heading level0 col3\" >lag_2</th>        <th class=\"col_heading level0 col4\" >lag_3</th>        <th class=\"col_heading level0 col5\" >lag_4</th>        <th class=\"col_heading level0 col6\" >lag_5</th>        <th class=\"col_heading level0 col7\" >Direction</th>    </tr></thead><tbody>\n",
       "                <tr>\n",
       "                        <th id=\"T_ab938da2_d4ef_11ea_9ef0_80c5f2ad3438level0_row0\" class=\"row_heading level0 row0\" >Volume</th>\n",
       "                        <td id=\"T_ab938da2_d4ef_11ea_9ef0_80c5f2ad3438row0_col0\" class=\"data row0 col0\" >1</td>\n",
       "                        <td id=\"T_ab938da2_d4ef_11ea_9ef0_80c5f2ad3438row0_col1\" class=\"data row0 col1\" >-0.0126295</td>\n",
       "                        <td id=\"T_ab938da2_d4ef_11ea_9ef0_80c5f2ad3438row0_col2\" class=\"data row0 col2\" >-0.0220684</td>\n",
       "                        <td id=\"T_ab938da2_d4ef_11ea_9ef0_80c5f2ad3438row0_col3\" class=\"data row0 col3\" >-0.0205531</td>\n",
       "                        <td id=\"T_ab938da2_d4ef_11ea_9ef0_80c5f2ad3438row0_col4\" class=\"data row0 col4\" >-0.0175805</td>\n",
       "                        <td id=\"T_ab938da2_d4ef_11ea_9ef0_80c5f2ad3438row0_col5\" class=\"data row0 col5\" >-0.0234144</td>\n",
       "                        <td id=\"T_ab938da2_d4ef_11ea_9ef0_80c5f2ad3438row0_col6\" class=\"data row0 col6\" >-0.0143569</td>\n",
       "                        <td id=\"T_ab938da2_d4ef_11ea_9ef0_80c5f2ad3438row0_col7\" class=\"data row0 col7\" >0.0104378</td>\n",
       "            </tr>\n",
       "            <tr>\n",
       "                        <th id=\"T_ab938da2_d4ef_11ea_9ef0_80c5f2ad3438level0_row1\" class=\"row_heading level0 row1\" >Today</th>\n",
       "                        <td id=\"T_ab938da2_d4ef_11ea_9ef0_80c5f2ad3438row1_col0\" class=\"data row1 col0\" >-0.0126295</td>\n",
       "                        <td id=\"T_ab938da2_d4ef_11ea_9ef0_80c5f2ad3438row1_col1\" class=\"data row1 col1\" >1</td>\n",
       "                        <td id=\"T_ab938da2_d4ef_11ea_9ef0_80c5f2ad3438row1_col2\" class=\"data row1 col2\" >-0.0247931</td>\n",
       "                        <td id=\"T_ab938da2_d4ef_11ea_9ef0_80c5f2ad3438row1_col3\" class=\"data row1 col3\" >-0.0168414</td>\n",
       "                        <td id=\"T_ab938da2_d4ef_11ea_9ef0_80c5f2ad3438row1_col4\" class=\"data row1 col4\" >-0.00438296</td>\n",
       "                        <td id=\"T_ab938da2_d4ef_11ea_9ef0_80c5f2ad3438row1_col5\" class=\"data row1 col5\" >-0.0289396</td>\n",
       "                        <td id=\"T_ab938da2_d4ef_11ea_9ef0_80c5f2ad3438row1_col6\" class=\"data row1 col6\" >-0.00867406</td>\n",
       "                        <td id=\"T_ab938da2_d4ef_11ea_9ef0_80c5f2ad3438row1_col7\" class=\"data row1 col7\" >0.669918</td>\n",
       "            </tr>\n",
       "            <tr>\n",
       "                        <th id=\"T_ab938da2_d4ef_11ea_9ef0_80c5f2ad3438level0_row2\" class=\"row_heading level0 row2\" >lag_1</th>\n",
       "                        <td id=\"T_ab938da2_d4ef_11ea_9ef0_80c5f2ad3438row2_col0\" class=\"data row2 col0\" >-0.0220684</td>\n",
       "                        <td id=\"T_ab938da2_d4ef_11ea_9ef0_80c5f2ad3438row2_col1\" class=\"data row2 col1\" >-0.0247931</td>\n",
       "                        <td id=\"T_ab938da2_d4ef_11ea_9ef0_80c5f2ad3438row2_col2\" class=\"data row2 col2\" >1</td>\n",
       "                        <td id=\"T_ab938da2_d4ef_11ea_9ef0_80c5f2ad3438row2_col3\" class=\"data row2 col3\" >-0.0245603</td>\n",
       "                        <td id=\"T_ab938da2_d4ef_11ea_9ef0_80c5f2ad3438row2_col4\" class=\"data row2 col4\" >-0.0169469</td>\n",
       "                        <td id=\"T_ab938da2_d4ef_11ea_9ef0_80c5f2ad3438row2_col5\" class=\"data row2 col5\" >-0.00412867</td>\n",
       "                        <td id=\"T_ab938da2_d4ef_11ea_9ef0_80c5f2ad3438row2_col6\" class=\"data row2 col6\" >-0.0289805</td>\n",
       "                        <td id=\"T_ab938da2_d4ef_11ea_9ef0_80c5f2ad3438row2_col7\" class=\"data row2 col7\" >-0.000574801</td>\n",
       "            </tr>\n",
       "            <tr>\n",
       "                        <th id=\"T_ab938da2_d4ef_11ea_9ef0_80c5f2ad3438level0_row3\" class=\"row_heading level0 row3\" >lag_2</th>\n",
       "                        <td id=\"T_ab938da2_d4ef_11ea_9ef0_80c5f2ad3438row3_col0\" class=\"data row3 col0\" >-0.0205531</td>\n",
       "                        <td id=\"T_ab938da2_d4ef_11ea_9ef0_80c5f2ad3438row3_col1\" class=\"data row3 col1\" >-0.0168414</td>\n",
       "                        <td id=\"T_ab938da2_d4ef_11ea_9ef0_80c5f2ad3438row3_col2\" class=\"data row3 col2\" >-0.0245603</td>\n",
       "                        <td id=\"T_ab938da2_d4ef_11ea_9ef0_80c5f2ad3438row3_col3\" class=\"data row3 col3\" >1</td>\n",
       "                        <td id=\"T_ab938da2_d4ef_11ea_9ef0_80c5f2ad3438row3_col4\" class=\"data row3 col4\" >-0.0243888</td>\n",
       "                        <td id=\"T_ab938da2_d4ef_11ea_9ef0_80c5f2ad3438row3_col5\" class=\"data row3 col5\" >-0.017392</td>\n",
       "                        <td id=\"T_ab938da2_d4ef_11ea_9ef0_80c5f2ad3438row3_col6\" class=\"data row3 col6\" >-0.00406322</td>\n",
       "                        <td id=\"T_ab938da2_d4ef_11ea_9ef0_80c5f2ad3438row3_col7\" class=\"data row3 col7\" >-0.0109357</td>\n",
       "            </tr>\n",
       "            <tr>\n",
       "                        <th id=\"T_ab938da2_d4ef_11ea_9ef0_80c5f2ad3438level0_row4\" class=\"row_heading level0 row4\" >lag_3</th>\n",
       "                        <td id=\"T_ab938da2_d4ef_11ea_9ef0_80c5f2ad3438row4_col0\" class=\"data row4 col0\" >-0.0175805</td>\n",
       "                        <td id=\"T_ab938da2_d4ef_11ea_9ef0_80c5f2ad3438row4_col1\" class=\"data row4 col1\" >-0.00438296</td>\n",
       "                        <td id=\"T_ab938da2_d4ef_11ea_9ef0_80c5f2ad3438row4_col2\" class=\"data row4 col2\" >-0.0169469</td>\n",
       "                        <td id=\"T_ab938da2_d4ef_11ea_9ef0_80c5f2ad3438row4_col3\" class=\"data row4 col3\" >-0.0243888</td>\n",
       "                        <td id=\"T_ab938da2_d4ef_11ea_9ef0_80c5f2ad3438row4_col4\" class=\"data row4 col4\" >1</td>\n",
       "                        <td id=\"T_ab938da2_d4ef_11ea_9ef0_80c5f2ad3438row4_col5\" class=\"data row4 col5\" >-0.0242062</td>\n",
       "                        <td id=\"T_ab938da2_d4ef_11ea_9ef0_80c5f2ad3438row4_col6\" class=\"data row4 col6\" >-0.0174214</td>\n",
       "                        <td id=\"T_ab938da2_d4ef_11ea_9ef0_80c5f2ad3438row4_col7\" class=\"data row4 col7\" >-0.0104466</td>\n",
       "            </tr>\n",
       "            <tr>\n",
       "                        <th id=\"T_ab938da2_d4ef_11ea_9ef0_80c5f2ad3438level0_row5\" class=\"row_heading level0 row5\" >lag_4</th>\n",
       "                        <td id=\"T_ab938da2_d4ef_11ea_9ef0_80c5f2ad3438row5_col0\" class=\"data row5 col0\" >-0.0234144</td>\n",
       "                        <td id=\"T_ab938da2_d4ef_11ea_9ef0_80c5f2ad3438row5_col1\" class=\"data row5 col1\" >-0.0289396</td>\n",
       "                        <td id=\"T_ab938da2_d4ef_11ea_9ef0_80c5f2ad3438row5_col2\" class=\"data row5 col2\" >-0.00412867</td>\n",
       "                        <td id=\"T_ab938da2_d4ef_11ea_9ef0_80c5f2ad3438row5_col3\" class=\"data row5 col3\" >-0.017392</td>\n",
       "                        <td id=\"T_ab938da2_d4ef_11ea_9ef0_80c5f2ad3438row5_col4\" class=\"data row5 col4\" >-0.0242062</td>\n",
       "                        <td id=\"T_ab938da2_d4ef_11ea_9ef0_80c5f2ad3438row5_col5\" class=\"data row5 col5\" >1</td>\n",
       "                        <td id=\"T_ab938da2_d4ef_11ea_9ef0_80c5f2ad3438row5_col6\" class=\"data row5 col6\" >-0.0241412</td>\n",
       "                        <td id=\"T_ab938da2_d4ef_11ea_9ef0_80c5f2ad3438row5_col7\" class=\"data row5 col7\" >-0.000835735</td>\n",
       "            </tr>\n",
       "            <tr>\n",
       "                        <th id=\"T_ab938da2_d4ef_11ea_9ef0_80c5f2ad3438level0_row6\" class=\"row_heading level0 row6\" >lag_5</th>\n",
       "                        <td id=\"T_ab938da2_d4ef_11ea_9ef0_80c5f2ad3438row6_col0\" class=\"data row6 col0\" >-0.0143569</td>\n",
       "                        <td id=\"T_ab938da2_d4ef_11ea_9ef0_80c5f2ad3438row6_col1\" class=\"data row6 col1\" >-0.00867406</td>\n",
       "                        <td id=\"T_ab938da2_d4ef_11ea_9ef0_80c5f2ad3438row6_col2\" class=\"data row6 col2\" >-0.0289805</td>\n",
       "                        <td id=\"T_ab938da2_d4ef_11ea_9ef0_80c5f2ad3438row6_col3\" class=\"data row6 col3\" >-0.00406322</td>\n",
       "                        <td id=\"T_ab938da2_d4ef_11ea_9ef0_80c5f2ad3438row6_col4\" class=\"data row6 col4\" >-0.0174214</td>\n",
       "                        <td id=\"T_ab938da2_d4ef_11ea_9ef0_80c5f2ad3438row6_col5\" class=\"data row6 col5\" >-0.0241412</td>\n",
       "                        <td id=\"T_ab938da2_d4ef_11ea_9ef0_80c5f2ad3438row6_col6\" class=\"data row6 col6\" >1</td>\n",
       "                        <td id=\"T_ab938da2_d4ef_11ea_9ef0_80c5f2ad3438row6_col7\" class=\"data row6 col7\" >-0.0086667</td>\n",
       "            </tr>\n",
       "            <tr>\n",
       "                        <th id=\"T_ab938da2_d4ef_11ea_9ef0_80c5f2ad3438level0_row7\" class=\"row_heading level0 row7\" >Direction</th>\n",
       "                        <td id=\"T_ab938da2_d4ef_11ea_9ef0_80c5f2ad3438row7_col0\" class=\"data row7 col0\" >0.0104378</td>\n",
       "                        <td id=\"T_ab938da2_d4ef_11ea_9ef0_80c5f2ad3438row7_col1\" class=\"data row7 col1\" >0.669918</td>\n",
       "                        <td id=\"T_ab938da2_d4ef_11ea_9ef0_80c5f2ad3438row7_col2\" class=\"data row7 col2\" >-0.000574801</td>\n",
       "                        <td id=\"T_ab938da2_d4ef_11ea_9ef0_80c5f2ad3438row7_col3\" class=\"data row7 col3\" >-0.0109357</td>\n",
       "                        <td id=\"T_ab938da2_d4ef_11ea_9ef0_80c5f2ad3438row7_col4\" class=\"data row7 col4\" >-0.0104466</td>\n",
       "                        <td id=\"T_ab938da2_d4ef_11ea_9ef0_80c5f2ad3438row7_col5\" class=\"data row7 col5\" >-0.000835735</td>\n",
       "                        <td id=\"T_ab938da2_d4ef_11ea_9ef0_80c5f2ad3438row7_col6\" class=\"data row7 col6\" >-0.0086667</td>\n",
       "                        <td id=\"T_ab938da2_d4ef_11ea_9ef0_80c5f2ad3438row7_col7\" class=\"data row7 col7\" >1</td>\n",
       "            </tr>\n",
       "    </tbody></table>"
      ],
      "text/plain": [
       "<pandas.io.formats.style.Styler at 0x211696ea5c8>"
      ]
     },
     "execution_count": 9,
     "metadata": {},
     "output_type": "execute_result"
    }
   ],
   "source": [
    "import numpy as np\n",
    "#Correlation plot in creative way\n",
    "rs = np.random.RandomState(0)\n",
    "corr = data.corr()\n",
    "corr.style.background_gradient(cmap='coolwarm')"
   ]
  },
  {
   "cell_type": "code",
   "execution_count": 10,
   "metadata": {},
   "outputs": [],
   "source": [
    "datafinal = data.drop(['Today'], axis=1)"
   ]
  },
  {
   "cell_type": "code",
   "execution_count": 11,
   "metadata": {},
   "outputs": [],
   "source": [
    "dataset = datafinal.dropna()"
   ]
  },
  {
   "cell_type": "code",
   "execution_count": null,
   "metadata": {},
   "outputs": [],
   "source": [
    "from sklearn.model_selection import KFold\n",
    "from sklearn.preprocessing import MinMaxScaler\n",
    "from sklearn.model_selection import cross_val_score"
   ]
  },
  {
   "cell_type": "code",
   "execution_count": 12,
   "metadata": {},
   "outputs": [],
   "source": [
    "X= dataset.drop(['Direction'], axis=1)"
   ]
  },
  {
   "cell_type": "code",
   "execution_count": null,
   "metadata": {},
   "outputs": [],
   "source": [
    "#scaler = MinMaxScaler(feature_range=(0, 1))\n",
    "#X1 = scaler.fit_transform(X)"
   ]
  },
  {
   "cell_type": "code",
   "execution_count": 13,
   "metadata": {},
   "outputs": [],
   "source": [
    "Y = dataset['Direction']"
   ]
  },
  {
   "cell_type": "code",
   "execution_count": null,
   "metadata": {},
   "outputs": [],
   "source": [
    "#Y1 = scaler.fit_transform(Y)"
   ]
  },
  {
   "cell_type": "code",
   "execution_count": 14,
   "metadata": {},
   "outputs": [],
   "source": [
    "X_train, X_test, Y_train, Y_test = train_test_split(X,Y, test_size=0.3)"
   ]
  },
  {
   "cell_type": "code",
   "execution_count": 122,
   "metadata": {},
   "outputs": [],
   "source": [
    "model = GradientBoostingClassifier(n_estimators=100, learning_rate=0.1, max_features=6, max_depth=2, random_state=0)"
   ]
  },
  {
   "cell_type": "code",
   "execution_count": 123,
   "metadata": {},
   "outputs": [
    {
     "data": {
      "text/plain": [
       "(8698, 8698)"
      ]
     },
     "execution_count": 123,
     "metadata": {},
     "output_type": "execute_result"
    }
   ],
   "source": [
    "len(X_train), len(Y_train)"
   ]
  },
  {
   "cell_type": "code",
   "execution_count": 124,
   "metadata": {},
   "outputs": [],
   "source": [
    "boostModel = model.fit(X_train, Y_train)"
   ]
  },
  {
   "cell_type": "code",
   "execution_count": 125,
   "metadata": {},
   "outputs": [],
   "source": [
    "y_pred = boostModel.predict(X_test)"
   ]
  },
  {
   "cell_type": "code",
   "execution_count": 126,
   "metadata": {},
   "outputs": [
    {
     "data": {
      "text/plain": [
       "3728"
      ]
     },
     "execution_count": 126,
     "metadata": {},
     "output_type": "execute_result"
    }
   ],
   "source": [
    "len(X_test)"
   ]
  },
  {
   "cell_type": "code",
   "execution_count": 127,
   "metadata": {},
   "outputs": [],
   "source": [
    "predictions = metrics.accuracy_score(Y_test, y_pred)"
   ]
  },
  {
   "cell_type": "code",
   "execution_count": 128,
   "metadata": {},
   "outputs": [
    {
     "name": "stdout",
     "output_type": "stream",
     "text": [
      "The accuracy is: 55.337982832618025 %\n"
     ]
    }
   ],
   "source": [
    "print('The accuracy is:', predictions * 100, '%')"
   ]
  }
 ],
 "metadata": {
  "kernelspec": {
   "display_name": "Python 3",
   "language": "python",
   "name": "python3"
  },
  "language_info": {
   "codemirror_mode": {
    "name": "ipython",
    "version": 3
   },
   "file_extension": ".py",
   "mimetype": "text/x-python",
   "name": "python",
   "nbconvert_exporter": "python",
   "pygments_lexer": "ipython3",
   "version": "3.7.4"
  }
 },
 "nbformat": 4,
 "nbformat_minor": 2
}
